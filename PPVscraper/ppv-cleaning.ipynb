{
 "metadata": {
  "language_info": {
   "codemirror_mode": {
    "name": "ipython",
    "version": 3
   },
   "file_extension": ".py",
   "mimetype": "text/x-python",
   "name": "python",
   "nbconvert_exporter": "python",
   "pygments_lexer": "ipython3",
   "version": "3.8.3"
  },
  "orig_nbformat": 4,
  "kernelspec": {
   "name": "python3",
   "display_name": "Python 3.8.3 64-bit ('base': conda)"
  },
  "interpreter": {
   "hash": "59a405f1726472a162cc781ed4eb20327b1952d524a6dd4c2bb460d59f3bfd54"
  }
 },
 "nbformat": 4,
 "nbformat_minor": 2,
 "cells": [
  {
   "cell_type": "code",
   "execution_count": 1,
   "metadata": {},
   "outputs": [],
   "source": [
    "import pandas as pd"
   ]
  },
  {
   "cell_type": "code",
   "execution_count": 2,
   "metadata": {},
   "outputs": [
    {
     "output_type": "execute_result",
     "data": {
      "text/plain": [
       "    state     district                                           ppv_name  \\\n",
       "0  Perlis       Kangar                          Dewan Seri Melati, Perlis   \n",
       "1  Perlis       Kangar                          Dewan Seri Melati, Perlis   \n",
       "2  Perlis       Kangar                              Dewan Warisan, Perlis   \n",
       "3  Perlis       Kangar                              Dewan Warisan, Perlis   \n",
       "4  Perlis       Perlis                                         Dewan 2020   \n",
       "5  Perlis       Perlis                            Hospital Tuanku Fauziah   \n",
       "6  Penang   Barat Daya                               Hospital Balik Pulau   \n",
       "7  Penang   Barat Daya                         Kompleks Sukan Balik Pulau   \n",
       "8  Penang  Bayan Lepas  Subterranean Penang International Convention &...   \n",
       "9  Penang  Bayan Lepas                           TAPAK PESTA PULAU PINANG   \n",
       "\n",
       "   latitude   longitude  \n",
       "0  6.515296  100.238619  \n",
       "1  6.515296  100.238619  \n",
       "2  6.440110  100.188087  \n",
       "3  6.440110  100.188087  \n",
       "4  6.414891  100.194979  \n",
       "5  6.440305  100.190469  \n",
       "6  5.350229  100.233130  \n",
       "7  5.338716  100.213724  \n",
       "8  5.329975  100.279992  \n",
       "9  5.343936  100.300360  "
      ],
      "text/html": "<div>\n<style scoped>\n    .dataframe tbody tr th:only-of-type {\n        vertical-align: middle;\n    }\n\n    .dataframe tbody tr th {\n        vertical-align: top;\n    }\n\n    .dataframe thead th {\n        text-align: right;\n    }\n</style>\n<table border=\"1\" class=\"dataframe\">\n  <thead>\n    <tr style=\"text-align: right;\">\n      <th></th>\n      <th>state</th>\n      <th>district</th>\n      <th>ppv_name</th>\n      <th>latitude</th>\n      <th>longitude</th>\n    </tr>\n  </thead>\n  <tbody>\n    <tr>\n      <th>0</th>\n      <td>Perlis</td>\n      <td>Kangar</td>\n      <td>Dewan Seri Melati, Perlis</td>\n      <td>6.515296</td>\n      <td>100.238619</td>\n    </tr>\n    <tr>\n      <th>1</th>\n      <td>Perlis</td>\n      <td>Kangar</td>\n      <td>Dewan Seri Melati, Perlis</td>\n      <td>6.515296</td>\n      <td>100.238619</td>\n    </tr>\n    <tr>\n      <th>2</th>\n      <td>Perlis</td>\n      <td>Kangar</td>\n      <td>Dewan Warisan, Perlis</td>\n      <td>6.440110</td>\n      <td>100.188087</td>\n    </tr>\n    <tr>\n      <th>3</th>\n      <td>Perlis</td>\n      <td>Kangar</td>\n      <td>Dewan Warisan, Perlis</td>\n      <td>6.440110</td>\n      <td>100.188087</td>\n    </tr>\n    <tr>\n      <th>4</th>\n      <td>Perlis</td>\n      <td>Perlis</td>\n      <td>Dewan 2020</td>\n      <td>6.414891</td>\n      <td>100.194979</td>\n    </tr>\n    <tr>\n      <th>5</th>\n      <td>Perlis</td>\n      <td>Perlis</td>\n      <td>Hospital Tuanku Fauziah</td>\n      <td>6.440305</td>\n      <td>100.190469</td>\n    </tr>\n    <tr>\n      <th>6</th>\n      <td>Penang</td>\n      <td>Barat Daya</td>\n      <td>Hospital Balik Pulau</td>\n      <td>5.350229</td>\n      <td>100.233130</td>\n    </tr>\n    <tr>\n      <th>7</th>\n      <td>Penang</td>\n      <td>Barat Daya</td>\n      <td>Kompleks Sukan Balik Pulau</td>\n      <td>5.338716</td>\n      <td>100.213724</td>\n    </tr>\n    <tr>\n      <th>8</th>\n      <td>Penang</td>\n      <td>Bayan Lepas</td>\n      <td>Subterranean Penang International Convention &amp;...</td>\n      <td>5.329975</td>\n      <td>100.279992</td>\n    </tr>\n    <tr>\n      <th>9</th>\n      <td>Penang</td>\n      <td>Bayan Lepas</td>\n      <td>TAPAK PESTA PULAU PINANG</td>\n      <td>5.343936</td>\n      <td>100.300360</td>\n    </tr>\n  </tbody>\n</table>\n</div>"
     },
     "metadata": {},
     "execution_count": 2
    }
   ],
   "source": [
    "df = pd.read_csv('ppv_full.csv')\n",
    "# drop first column - Unnamed:0\n",
    "df = df.iloc[:,1:]\n",
    "df.head(20)"
   ]
  },
  {
   "cell_type": "code",
   "execution_count": 3,
   "metadata": {},
   "outputs": [
    {
     "output_type": "execute_result",
     "data": {
      "text/plain": [
       "(530, 5)"
      ]
     },
     "metadata": {},
     "execution_count": 3
    }
   ],
   "source": [
    "df.shape"
   ]
  },
  {
   "source": [
    "## Data Cleaning"
   ],
   "cell_type": "markdown",
   "metadata": {}
  },
  {
   "source": [
    "### Missing Values"
   ],
   "cell_type": "markdown",
   "metadata": {}
  },
  {
   "cell_type": "code",
   "execution_count": 4,
   "metadata": {},
   "outputs": [
    {
     "output_type": "execute_result",
     "data": {
      "text/plain": [
       "state        0\n",
       "district     0\n",
       "ppv_name     0\n",
       "latitude     3\n",
       "longitude    3\n",
       "dtype: int64"
      ]
     },
     "metadata": {},
     "execution_count": 4
    }
   ],
   "source": [
    "# Check for missing values\n",
    "df.isna().sum()"
   ]
  },
  {
   "cell_type": "code",
   "execution_count": 5,
   "metadata": {},
   "outputs": [
    {
     "output_type": "execute_result",
     "data": {
      "text/plain": [
       "       state    district                     ppv_name  latitude  longitude\n",
       "304    Johor     Mersing               KK Tenggaroh 2       NaN        NaN\n",
       "348    Sabah  Lahad Datu     Dewan Serbaguna Tambisan       NaN        NaN\n",
       "411  Sarawak       Lawas  Dewan Masyarakat Kpg Sualai       NaN        NaN"
      ],
      "text/html": "<div>\n<style scoped>\n    .dataframe tbody tr th:only-of-type {\n        vertical-align: middle;\n    }\n\n    .dataframe tbody tr th {\n        vertical-align: top;\n    }\n\n    .dataframe thead th {\n        text-align: right;\n    }\n</style>\n<table border=\"1\" class=\"dataframe\">\n  <thead>\n    <tr style=\"text-align: right;\">\n      <th></th>\n      <th>state</th>\n      <th>district</th>\n      <th>ppv_name</th>\n      <th>latitude</th>\n      <th>longitude</th>\n    </tr>\n  </thead>\n  <tbody>\n    <tr>\n      <th>304</th>\n      <td>Johor</td>\n      <td>Mersing</td>\n      <td>KK Tenggaroh 2</td>\n      <td>NaN</td>\n      <td>NaN</td>\n    </tr>\n    <tr>\n      <th>348</th>\n      <td>Sabah</td>\n      <td>Lahad Datu</td>\n      <td>Dewan Serbaguna Tambisan</td>\n      <td>NaN</td>\n      <td>NaN</td>\n    </tr>\n    <tr>\n      <th>411</th>\n      <td>Sarawak</td>\n      <td>Lawas</td>\n      <td>Dewan Masyarakat Kpg Sualai</td>\n      <td>NaN</td>\n      <td>NaN</td>\n    </tr>\n  </tbody>\n</table>\n</div>"
     },
     "metadata": {},
     "execution_count": 5
    }
   ],
   "source": [
    "# PPVs with missing coordinates\n",
    "df[df.latitude.isna()]"
   ]
  },
  {
   "source": [
    "### Duplicate Values"
   ],
   "cell_type": "markdown",
   "metadata": {}
  },
  {
   "cell_type": "code",
   "execution_count": 6,
   "metadata": {},
   "outputs": [
    {
     "output_type": "execute_result",
     "data": {
      "text/plain": [
       "498"
      ]
     },
     "metadata": {},
     "execution_count": 6
    }
   ],
   "source": [
    "# Judging by the first few records, it seems like there are duplicate PPVs.. let's see how many unique PPVs\n",
    "df.ppv_name.nunique()"
   ]
  },
  {
   "cell_type": "code",
   "execution_count": 10,
   "metadata": {},
   "outputs": [
    {
     "output_type": "execute_result",
     "data": {
      "text/plain": [
       "(498, 5)"
      ]
     },
     "metadata": {},
     "execution_count": 10
    }
   ],
   "source": [
    "# Remove duplicates\n",
    "df = df.drop_duplicates(subset=['ppv_name'], ignore_index=True)\n",
    "df.shape"
   ]
  },
  {
   "cell_type": "code",
   "execution_count": 12,
   "metadata": {},
   "outputs": [],
   "source": [
    "df.to_csv('ppv_cleaned.csv')"
   ]
  }
 ]
}