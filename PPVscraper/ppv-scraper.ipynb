{
 "cells": [
  {
   "cell_type": "code",
   "execution_count": 1,
   "metadata": {},
   "outputs": [],
   "source": [
    "from selenium import webdriver\n",
    "from selenium.webdriver.support.ui import Select\n",
    "from timeit import default_timer as timer\n",
    "import time\n",
    "import pandas as pd"
   ]
  },
  {
   "cell_type": "code",
   "execution_count": 2,
   "metadata": {},
   "outputs": [],
   "source": [
    "# initialise Chrome driver\n",
    "PATH = '/Users/samuelchai/chromedriver'\n",
    "driver = webdriver.Chrome(PATH)\n",
    "# website to scrap\n",
    "driver.get('https://www.vaksincovid.gov.my/en/ppv/')"
   ]
  },
  {
   "cell_type": "code",
   "execution_count": 3,
   "metadata": {},
   "outputs": [],
   "source": [
    "# function that scrapes PPV centres from website\n",
    "def ppv_scraper():\n",
    "    ppv_list = []\n",
    "    # get dropdown elements\n",
    "    select_state = Select(driver.find_element_by_id('selstate'))\n",
    "    select_district = Select(driver.find_element_by_id('seldistrict'))\n",
    "    # iterate through all State options\n",
    "    for state in select_state.options:\n",
    "        if state.text != 'Show All States' and state.text != 'Choose your state':\n",
    "            # select state from dropdown\n",
    "            select_state.select_by_visible_text(state.text)\n",
    "            for district in select_district.options:\n",
    "                if district.text != 'Show All Districts':\n",
    "                    # select district from dropdown\n",
    "                    select_district.select_by_visible_text(district.text)\n",
    "                    # get the WebElement of the PPVs\n",
    "                    ppvrow_elem = driver.find_element_by_id('ppvrow')\n",
    "                    ppvs_elem = ppvrow_elem.find_elements_by_tag_name('tr')\n",
    "                    for ppv in ppvs_elem:\n",
    "                        ppv_list.append([state.text, district.text, ppv.text])\n",
    "    return ppv_list"
   ]
  },
  {
   "cell_type": "code",
   "execution_count": 4,
   "metadata": {},
   "outputs": [
    {
     "name": "stdout",
     "output_type": "stream",
     "text": [
      "Total Time Taken: 30.835554805999998 seconds\n"
     ]
    }
   ],
   "source": [
    "start = timer()\n",
    "ppv_list = ppv_scraper()\n",
    "end = timer()\n",
    "print(f'Total Time Taken: {end-start} seconds')"
   ]
  },
  {
   "cell_type": "code",
   "execution_count": 9,
   "metadata": {},
   "outputs": [],
   "source": [
    "# function that geocode location names (convert address to coordinates)\n",
    "def geocode(ppv_list):\n",
    "    ppv_full_list = []\n",
    "    for ppv in ppv_list:\n",
    "        # search for location on Google Maps\n",
    "        map_search_url = 'https://www.google.com/maps/search/' + ppv[2]\n",
    "        driver.get(map_search_url)\n",
    "        # explicit delay to allow time for Google Maps to load\n",
    "        time.sleep(1)\n",
    "        # find the url WebElement\n",
    "        map_url = driver.find_element_by_css_selector('meta[itemprop=image]').get_attribute('content')\n",
    "        # URL might be incomplete for locations that can't be found, return None instead.\n",
    "        try:\n",
    "            # string formatting\n",
    "            coord = map_url.split('?center=')[1].split('&zoom=')[0].split('%2C')\n",
    "            ppv_full_list.append(ppv + [coord[0], coord[1]])\n",
    "        except:\n",
    "            ppv_full_list.append(ppv + [None, None])\n",
    "    return ppv_full_list"
   ]
  },
  {
   "cell_type": "code",
   "execution_count": 10,
   "metadata": {},
   "outputs": [
    {
     "name": "stdout",
     "output_type": "stream",
     "text": [
      "Total Time Taken: 1448.073677901 seconds\n"
     ]
    }
   ],
   "source": [
    "start = timer()\n",
    "ppv_list = geocode(ppv_list)\n",
    "driver.close()\n",
    "end = timer()\n",
    "print(f'Total Time Taken: {end-start} seconds')"
   ]
  },
  {
   "cell_type": "code",
   "execution_count": 11,
   "metadata": {},
   "outputs": [],
   "source": [
    "df = pd.DataFrame(ppv_list, columns=['state', 'district', 'ppv_name', 'latitude', 'longitude'])\n",
    "# df.to_csv('ppv_full.csv')"
   ]
  }
 ],
 "metadata": {
  "kernelspec": {
   "display_name": "Python 3",
   "language": "python",
   "name": "python3"
  },
  "language_info": {
   "codemirror_mode": {
    "name": "ipython",
    "version": 3
   },
   "file_extension": ".py",
   "mimetype": "text/x-python",
   "name": "python",
   "nbconvert_exporter": "python",
   "pygments_lexer": "ipython3",
   "version": "3.8.3"
  }
 },
 "nbformat": 4,
 "nbformat_minor": 4
}