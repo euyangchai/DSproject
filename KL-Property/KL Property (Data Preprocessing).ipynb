{
 "cells": [
  {
   "cell_type": "markdown",
   "metadata": {},
   "source": [
    "# Imports"
   ]
  },
  {
   "cell_type": "code",
   "execution_count": 1,
   "metadata": {},
   "outputs": [],
   "source": [
    "import pandas as pd\n",
    "import numpy as np\n",
    "import re\n",
    "pd.options.mode.chained_assignment = None"
   ]
  },
  {
   "cell_type": "code",
   "execution_count": 2,
   "metadata": {},
   "outputs": [],
   "source": [
    "kl_data = pd.read_csv('kl_property.csv')"
   ]
  },
  {
   "cell_type": "markdown",
   "metadata": {},
   "source": [
    "# Overview of the dataset"
   ]
  },
  {
   "cell_type": "code",
   "execution_count": 3,
   "metadata": {},
   "outputs": [
    {
     "data": {
      "text/html": [
       "<div>\n",
       "<style scoped>\n",
       "    .dataframe tbody tr th:only-of-type {\n",
       "        vertical-align: middle;\n",
       "    }\n",
       "\n",
       "    .dataframe tbody tr th {\n",
       "        vertical-align: top;\n",
       "    }\n",
       "\n",
       "    .dataframe thead th {\n",
       "        text-align: right;\n",
       "    }\n",
       "</style>\n",
       "<table border=\"1\" class=\"dataframe\">\n",
       "  <thead>\n",
       "    <tr style=\"text-align: right;\">\n",
       "      <th></th>\n",
       "      <th>Location</th>\n",
       "      <th>Price</th>\n",
       "      <th>Rooms</th>\n",
       "      <th>Bathrooms</th>\n",
       "      <th>Car Parks</th>\n",
       "      <th>Property Type</th>\n",
       "      <th>Size</th>\n",
       "      <th>Furnishing</th>\n",
       "    </tr>\n",
       "  </thead>\n",
       "  <tbody>\n",
       "    <tr>\n",
       "      <th>0</th>\n",
       "      <td>KLCC, Kuala Lumpur</td>\n",
       "      <td>RM 1,250,000</td>\n",
       "      <td>2+1</td>\n",
       "      <td>3.0</td>\n",
       "      <td>2.0</td>\n",
       "      <td>Serviced Residence</td>\n",
       "      <td>Built-up : 1,335 sq. ft.</td>\n",
       "      <td>Fully Furnished</td>\n",
       "    </tr>\n",
       "    <tr>\n",
       "      <th>1</th>\n",
       "      <td>Damansara Heights, Kuala Lumpur</td>\n",
       "      <td>RM 6,800,000</td>\n",
       "      <td>6</td>\n",
       "      <td>7.0</td>\n",
       "      <td>NaN</td>\n",
       "      <td>Bungalow</td>\n",
       "      <td>Land area : 6900 sq. ft.</td>\n",
       "      <td>Partly Furnished</td>\n",
       "    </tr>\n",
       "    <tr>\n",
       "      <th>2</th>\n",
       "      <td>Dutamas, Kuala Lumpur</td>\n",
       "      <td>RM 1,030,000</td>\n",
       "      <td>3</td>\n",
       "      <td>4.0</td>\n",
       "      <td>2.0</td>\n",
       "      <td>Condominium (Corner)</td>\n",
       "      <td>Built-up : 1,875 sq. ft.</td>\n",
       "      <td>Partly Furnished</td>\n",
       "    </tr>\n",
       "    <tr>\n",
       "      <th>3</th>\n",
       "      <td>Cheras, Kuala Lumpur</td>\n",
       "      <td>NaN</td>\n",
       "      <td>NaN</td>\n",
       "      <td>NaN</td>\n",
       "      <td>NaN</td>\n",
       "      <td>NaN</td>\n",
       "      <td>NaN</td>\n",
       "      <td>NaN</td>\n",
       "    </tr>\n",
       "    <tr>\n",
       "      <th>4</th>\n",
       "      <td>Bukit Jalil, Kuala Lumpur</td>\n",
       "      <td>RM 900,000</td>\n",
       "      <td>4+1</td>\n",
       "      <td>3.0</td>\n",
       "      <td>2.0</td>\n",
       "      <td>Condominium (Corner)</td>\n",
       "      <td>Built-up : 1,513 sq. ft.</td>\n",
       "      <td>Partly Furnished</td>\n",
       "    </tr>\n",
       "  </tbody>\n",
       "</table>\n",
       "</div>"
      ],
      "text/plain": [
       "                          Location         Price Rooms  Bathrooms  Car Parks  \\\n",
       "0               KLCC, Kuala Lumpur  RM 1,250,000   2+1        3.0        2.0   \n",
       "1  Damansara Heights, Kuala Lumpur  RM 6,800,000     6        7.0        NaN   \n",
       "2            Dutamas, Kuala Lumpur  RM 1,030,000     3        4.0        2.0   \n",
       "3             Cheras, Kuala Lumpur           NaN   NaN        NaN        NaN   \n",
       "4        Bukit Jalil, Kuala Lumpur    RM 900,000   4+1        3.0        2.0   \n",
       "\n",
       "          Property Type                      Size        Furnishing  \n",
       "0    Serviced Residence  Built-up : 1,335 sq. ft.   Fully Furnished  \n",
       "1              Bungalow  Land area : 6900 sq. ft.  Partly Furnished  \n",
       "2  Condominium (Corner)  Built-up : 1,875 sq. ft.  Partly Furnished  \n",
       "3                   NaN                       NaN               NaN  \n",
       "4  Condominium (Corner)  Built-up : 1,513 sq. ft.  Partly Furnished  "
      ]
     },
     "execution_count": 3,
     "metadata": {},
     "output_type": "execute_result"
    }
   ],
   "source": [
    "kl_data.head()"
   ]
  },
  {
   "cell_type": "markdown",
   "metadata": {},
   "source": [
    "#### This dataset has 53883 records and 8 columns"
   ]
  },
  {
   "cell_type": "code",
   "execution_count": 4,
   "metadata": {},
   "outputs": [
    {
     "data": {
      "text/plain": [
       "(53883, 8)"
      ]
     },
     "execution_count": 4,
     "metadata": {},
     "output_type": "execute_result"
    }
   ],
   "source": [
    "kl_data.shape"
   ]
  },
  {
   "cell_type": "markdown",
   "metadata": {},
   "source": [
    "#### Data type of each column"
   ]
  },
  {
   "cell_type": "code",
   "execution_count": 5,
   "metadata": {},
   "outputs": [
    {
     "data": {
      "text/plain": [
       "Location          object\n",
       "Price             object\n",
       "Rooms             object\n",
       "Bathrooms        float64\n",
       "Car Parks        float64\n",
       "Property Type     object\n",
       "Size              object\n",
       "Furnishing        object\n",
       "dtype: object"
      ]
     },
     "execution_count": 5,
     "metadata": {},
     "output_type": "execute_result"
    }
   ],
   "source": [
    "kl_data.dtypes"
   ]
  },
  {
   "cell_type": "markdown",
   "metadata": {},
   "source": [
    "#### Number of null values in each column"
   ]
  },
  {
   "cell_type": "code",
   "execution_count": 6,
   "metadata": {},
   "outputs": [
    {
     "data": {
      "text/plain": [
       "Location             0\n",
       "Price              248\n",
       "Rooms             1706\n",
       "Bathrooms         2013\n",
       "Car Parks        17567\n",
       "Property Type       25\n",
       "Size              1063\n",
       "Furnishing        6930\n",
       "dtype: int64"
      ]
     },
     "execution_count": 6,
     "metadata": {},
     "output_type": "execute_result"
    }
   ],
   "source": [
    "kl_data.isna().sum()"
   ]
  },
  {
   "cell_type": "markdown",
   "metadata": {},
   "source": [
    "# Data Preprocessing"
   ]
  },
  {
   "cell_type": "markdown",
   "metadata": {},
   "source": [
    "### Price"
   ]
  },
  {
   "cell_type": "markdown",
   "metadata": {},
   "source": [
    "Removing all records with missing Price value as Price will be used later on as the *target* for future prediction."
   ]
  },
  {
   "cell_type": "code",
   "execution_count": 7,
   "metadata": {},
   "outputs": [],
   "source": [
    "df = kl_data[kl_data['Price'].notnull()]"
   ]
  },
  {
   "cell_type": "markdown",
   "metadata": {},
   "source": [
    "Price column has no missing values now."
   ]
  },
  {
   "cell_type": "code",
   "execution_count": 8,
   "metadata": {},
   "outputs": [
    {
     "data": {
      "text/plain": [
       "Location             0\n",
       "Price                0\n",
       "Rooms             1655\n",
       "Bathrooms         1962\n",
       "Car Parks        17441\n",
       "Property Type        0\n",
       "Size              1024\n",
       "Furnishing        6856\n",
       "dtype: int64"
      ]
     },
     "execution_count": 8,
     "metadata": {},
     "output_type": "execute_result"
    }
   ],
   "source": [
    "df.isna().sum()"
   ]
  },
  {
   "cell_type": "markdown",
   "metadata": {},
   "source": [
    "Converting Price values to be numeric."
   ]
  },
  {
   "cell_type": "code",
   "execution_count": 9,
   "metadata": {},
   "outputs": [],
   "source": [
    "def format_price(string):\n",
    "    string = string.strip()\n",
    "    string = string.replace(\"RM\", \"\")\n",
    "    string = string.replace(\",\", \"\")\n",
    "    return int(string)\n",
    "\n",
    "df['Price'] = df['Price'].apply(format_price)"
   ]
  },
  {
   "cell_type": "code",
   "execution_count": 10,
   "metadata": {},
   "outputs": [
    {
     "data": {
      "text/plain": [
       "dtype('int64')"
      ]
     },
     "execution_count": 10,
     "metadata": {},
     "output_type": "execute_result"
    }
   ],
   "source": [
    "df['Price'].dtype"
   ]
  },
  {
   "cell_type": "markdown",
   "metadata": {},
   "source": [
    "### Location"
   ]
  },
  {
   "cell_type": "markdown",
   "metadata": {},
   "source": [
    "Since this dataset contains only records of properties from Kuala Lumpur, we can remove the city name from all Location values."
   ]
  },
  {
   "cell_type": "code",
   "execution_count": 11,
   "metadata": {},
   "outputs": [],
   "source": [
    "df['Location'] = df['Location'].str.lower()\n",
    "df['Location'] = df['Location'].str.replace(r\", kuala lumpur$\", \"\")"
   ]
  },
  {
   "cell_type": "markdown",
   "metadata": {},
   "source": [
    "Large amount of unique location values making it hard to work with."
   ]
  },
  {
   "cell_type": "code",
   "execution_count": 12,
   "metadata": {},
   "outputs": [
    {
     "data": {
      "text/plain": [
       "['adiva desa parkcity',\n",
       " 'alam damai',\n",
       " 'ampang',\n",
       " 'ampang hilir',\n",
       " 'bandar damai perdana',\n",
       " 'bandar menjalara',\n",
       " 'bandar sri damansara',\n",
       " 'bandar tasik selatan',\n",
       " 'bangsar',\n",
       " 'bangsar south',\n",
       " 'batu caves',\n",
       " 'brickfields',\n",
       " 'bukit  persekutuan',\n",
       " 'bukit bintang',\n",
       " 'bukit damansara',\n",
       " 'bukit jalil',\n",
       " 'bukit kiara',\n",
       " 'bukit ledang',\n",
       " 'bukit tunku (kenny hills)',\n",
       " 'canary residence',\n",
       " 'casa rimba',\n",
       " 'chan sow lin',\n",
       " 'cheras',\n",
       " 'city centre',\n",
       " 'country heights damansara',\n",
       " 'cyberjaya',\n",
       " 'damansara',\n",
       " 'damansara heights',\n",
       " 'desa pandan',\n",
       " 'desa parkcity',\n",
       " 'desa petaling',\n",
       " 'duta nusantara',\n",
       " 'dutamas',\n",
       " 'federal hill',\n",
       " 'gombak',\n",
       " 'gurney',\n",
       " 'happy garden',\n",
       " 'jalan ipoh',\n",
       " 'jalan klang lama (old klang road)',\n",
       " 'jalan kuching',\n",
       " 'jalan sultan ismail',\n",
       " 'jalan u-thant',\n",
       " 'jinjang',\n",
       " 'kemensah',\n",
       " 'kepong',\n",
       " 'keramat',\n",
       " 'kl city',\n",
       " 'kl eco city',\n",
       " 'kl sentral',\n",
       " 'klcc',\n",
       " 'kota damansara',\n",
       " 'kuala lumpur',\n",
       " 'kuchai lama',\n",
       " 'landed sd',\n",
       " 'mid valley city',\n",
       " 'mont kiara',\n",
       " 'off gasing indah,',\n",
       " 'other',\n",
       " 'oug',\n",
       " 'pandan indah',\n",
       " 'pandan jaya',\n",
       " 'pandan perdana',\n",
       " 'pantai',\n",
       " 'petaling jaya',\n",
       " 'puchong',\n",
       " 'rawang',\n",
       " 'salak selatan',\n",
       " 'santuari park pantai',\n",
       " 'segambut',\n",
       " 'semarak',\n",
       " 'sentul',\n",
       " 'seputeh',\n",
       " 'seri kembangan',\n",
       " 'setapak',\n",
       " 'setiawangsa',\n",
       " 'singapore',\n",
       " 'solaris dutamas',\n",
       " 'sri damansara',\n",
       " 'sri hartamas',\n",
       " 'sri kembangan',\n",
       " 'sri petaling',\n",
       " 'sungai besi',\n",
       " 'sungai long sl8',\n",
       " 'sungai penchala',\n",
       " 'sunway spk',\n",
       " 'taman cheras perdana',\n",
       " 'taman connaught',\n",
       " 'taman desa',\n",
       " 'taman duta',\n",
       " 'taman ibukota',\n",
       " 'taman melati',\n",
       " 'taman melawati',\n",
       " 'taman sri keramat',\n",
       " 'taman tar',\n",
       " 'taman tun dr ismail',\n",
       " 'taman wangsa permai',\n",
       " 'taman yarl',\n",
       " 'taman yarl oug',\n",
       " 'taman yarl, uog',\n",
       " 'taming jaya',\n",
       " 'the mines resort',\n",
       " 'titiwangsa',\n",
       " 'u-thant',\n",
       " 'ukay heights',\n",
       " 'wangsa maju',\n",
       " 'wangsa melawati']"
      ]
     },
     "execution_count": 12,
     "metadata": {},
     "output_type": "execute_result"
    }
   ],
   "source": [
    "sorted(df['Location'].unique())"
   ]
  },
  {
   "cell_type": "markdown",
   "metadata": {},
   "source": [
    "There are many locations with very few properties listed."
   ]
  },
  {
   "cell_type": "code",
   "execution_count": 13,
   "metadata": {},
   "outputs": [
    {
     "data": {
      "text/plain": [
       "bandar tasik selatan    93\n",
       "puchong                 82\n",
       "damansara               75\n",
       "pandan indah            63\n",
       "jinjang                 54\n",
       "mid valley city         50\n",
       "sungai penchala         45\n",
       "taman duta              41\n",
       "federal hill            34\n",
       "pandan jaya             25\n",
       "other                   23\n",
       "bukit ledang            14\n",
       "chan sow lin            11\n",
       "bukit kiara              9\n",
       "gombak                   9\n",
       "bandar sri damansara     7\n",
       "sri damansara            3\n",
       "santuari park pantai     3\n",
       "kuala lumpur             3\n",
       "taman yarl               2\n",
       "adiva desa parkcity      2\n",
       "happy garden             2\n",
       "taman sri keramat        2\n",
       "canary residence         1\n",
       "taman connaught          1\n",
       "semarak                  1\n",
       "kota damansara           1\n",
       "taman melati             1\n",
       "singapore                1\n",
       "the mines resort         1\n",
       "u-thant                  1\n",
       "rawang                   1\n",
       "gurney                   1\n",
       "off gasing indah,        1\n",
       "solaris dutamas          1\n",
       "taman ibukota            1\n",
       "sri kembangan            1\n",
       "casa rimba               1\n",
       "petaling jaya            1\n",
       "taman yarl oug           1\n",
       "ukay heights             1\n",
       "taman yarl, uog          1\n",
       "bukit damansara          1\n",
       "bukit  persekutuan       1\n",
       "jalan u-thant            1\n",
       "taman cheras perdana     1\n",
       "landed sd                1\n",
       "duta nusantara           1\n",
       "taman wangsa permai      1\n",
       "cyberjaya                1\n",
       "sungai long sl8          1\n",
       "alam damai               1\n",
       "taming jaya              1\n",
       "seri kembangan           1\n",
       "kemensah                 1\n",
       "wangsa melawati          1\n",
       "taman tar                1\n",
       "Name: Location, dtype: int64"
      ]
     },
     "execution_count": 13,
     "metadata": {},
     "output_type": "execute_result"
    }
   ],
   "source": [
    "df['Location'].value_counts()[df['Location'].value_counts() < 100]"
   ]
  },
  {
   "cell_type": "markdown",
   "metadata": {},
   "source": [
    "Here, we consider a location to be **significant** if it has more than 100 properties listed."
   ]
  },
  {
   "cell_type": "code",
   "execution_count": 14,
   "metadata": {},
   "outputs": [
    {
     "data": {
      "text/plain": [
       "Index(['mont kiara', 'klcc', 'cheras', 'jalan klang lama (old klang road)',\n",
       "       'setapak', 'bukit jalil', 'kepong', 'bangsar', 'desa parkcity',\n",
       "       'damansara heights', 'dutamas', 'ampang', 'sentul', 'sungai besi',\n",
       "       'taman tun dr ismail', 'sri hartamas', 'taman desa', 'wangsa maju',\n",
       "       'segambut', 'bukit bintang', 'kl city', 'kuchai lama', 'sri petaling',\n",
       "       'jalan kuching', 'kl sentral', 'jalan ipoh', 'taman melawati',\n",
       "       'ampang hilir', 'city centre', 'bukit tunku (kenny hills)',\n",
       "       'bandar menjalara', 'bangsar south', 'seputeh', 'pantai', 'oug',\n",
       "       'batu caves', 'country heights damansara', 'brickfields', 'sunway spk',\n",
       "       'keramat', 'salak selatan', 'titiwangsa', 'kl eco city',\n",
       "       'desa petaling', 'bandar damai perdana', 'setiawangsa', 'desa pandan',\n",
       "       'jalan sultan ismail', 'pandan perdana'],\n",
       "      dtype='object')"
      ]
     },
     "execution_count": 14,
     "metadata": {},
     "output_type": "execute_result"
    }
   ],
   "source": [
    "significant_loc = df['Location'].value_counts()[df['Location'].value_counts() >= 100].index\n",
    "significant_loc"
   ]
  },
  {
   "cell_type": "markdown",
   "metadata": {},
   "source": [
    "Filtering the records to contain **only** significant locations."
   ]
  },
  {
   "cell_type": "code",
   "execution_count": 15,
   "metadata": {},
   "outputs": [],
   "source": [
    "df = df.loc[np.isin(df['Location'], significant_loc)]"
   ]
  },
  {
   "cell_type": "markdown",
   "metadata": {},
   "source": [
    "This is how the data frame looks like after cleaning Location and Price columns."
   ]
  },
  {
   "cell_type": "code",
   "execution_count": 16,
   "metadata": {},
   "outputs": [
    {
     "data": {
      "text/html": [
       "<div>\n",
       "<style scoped>\n",
       "    .dataframe tbody tr th:only-of-type {\n",
       "        vertical-align: middle;\n",
       "    }\n",
       "\n",
       "    .dataframe tbody tr th {\n",
       "        vertical-align: top;\n",
       "    }\n",
       "\n",
       "    .dataframe thead th {\n",
       "        text-align: right;\n",
       "    }\n",
       "</style>\n",
       "<table border=\"1\" class=\"dataframe\">\n",
       "  <thead>\n",
       "    <tr style=\"text-align: right;\">\n",
       "      <th></th>\n",
       "      <th>Location</th>\n",
       "      <th>Price</th>\n",
       "      <th>Rooms</th>\n",
       "      <th>Bathrooms</th>\n",
       "      <th>Car Parks</th>\n",
       "      <th>Property Type</th>\n",
       "      <th>Size</th>\n",
       "      <th>Furnishing</th>\n",
       "    </tr>\n",
       "  </thead>\n",
       "  <tbody>\n",
       "    <tr>\n",
       "      <th>0</th>\n",
       "      <td>klcc</td>\n",
       "      <td>1250000</td>\n",
       "      <td>2+1</td>\n",
       "      <td>3.0</td>\n",
       "      <td>2.0</td>\n",
       "      <td>Serviced Residence</td>\n",
       "      <td>Built-up : 1,335 sq. ft.</td>\n",
       "      <td>Fully Furnished</td>\n",
       "    </tr>\n",
       "    <tr>\n",
       "      <th>1</th>\n",
       "      <td>damansara heights</td>\n",
       "      <td>6800000</td>\n",
       "      <td>6</td>\n",
       "      <td>7.0</td>\n",
       "      <td>NaN</td>\n",
       "      <td>Bungalow</td>\n",
       "      <td>Land area : 6900 sq. ft.</td>\n",
       "      <td>Partly Furnished</td>\n",
       "    </tr>\n",
       "    <tr>\n",
       "      <th>2</th>\n",
       "      <td>dutamas</td>\n",
       "      <td>1030000</td>\n",
       "      <td>3</td>\n",
       "      <td>4.0</td>\n",
       "      <td>2.0</td>\n",
       "      <td>Condominium (Corner)</td>\n",
       "      <td>Built-up : 1,875 sq. ft.</td>\n",
       "      <td>Partly Furnished</td>\n",
       "    </tr>\n",
       "    <tr>\n",
       "      <th>4</th>\n",
       "      <td>bukit jalil</td>\n",
       "      <td>900000</td>\n",
       "      <td>4+1</td>\n",
       "      <td>3.0</td>\n",
       "      <td>2.0</td>\n",
       "      <td>Condominium (Corner)</td>\n",
       "      <td>Built-up : 1,513 sq. ft.</td>\n",
       "      <td>Partly Furnished</td>\n",
       "    </tr>\n",
       "    <tr>\n",
       "      <th>5</th>\n",
       "      <td>taman tun dr ismail</td>\n",
       "      <td>5350000</td>\n",
       "      <td>4+2</td>\n",
       "      <td>5.0</td>\n",
       "      <td>4.0</td>\n",
       "      <td>Bungalow</td>\n",
       "      <td>Land area : 7200 sq. ft.</td>\n",
       "      <td>Partly Furnished</td>\n",
       "    </tr>\n",
       "  </tbody>\n",
       "</table>\n",
       "</div>"
      ],
      "text/plain": [
       "              Location    Price Rooms  Bathrooms  Car Parks  \\\n",
       "0                 klcc  1250000   2+1        3.0        2.0   \n",
       "1    damansara heights  6800000     6        7.0        NaN   \n",
       "2              dutamas  1030000     3        4.0        2.0   \n",
       "4          bukit jalil   900000   4+1        3.0        2.0   \n",
       "5  taman tun dr ismail  5350000   4+2        5.0        4.0   \n",
       "\n",
       "          Property Type                      Size        Furnishing  \n",
       "0    Serviced Residence  Built-up : 1,335 sq. ft.   Fully Furnished  \n",
       "1              Bungalow  Land area : 6900 sq. ft.  Partly Furnished  \n",
       "2  Condominium (Corner)  Built-up : 1,875 sq. ft.  Partly Furnished  \n",
       "4  Condominium (Corner)  Built-up : 1,513 sq. ft.  Partly Furnished  \n",
       "5              Bungalow  Land area : 7200 sq. ft.  Partly Furnished  "
      ]
     },
     "execution_count": 16,
     "metadata": {},
     "output_type": "execute_result"
    }
   ],
   "source": [
    "df.head()"
   ]
  },
  {
   "cell_type": "markdown",
   "metadata": {},
   "source": [
    "### Rooms"
   ]
  },
  {
   "cell_type": "markdown",
   "metadata": {},
   "source": [
    "The values in Rooms are either 'x', 'x+', 'x+y', 'x Above' or 'Studio', where x and y are integers in the form of a string. We will format the strings and convert it into integer values."
   ]
  },
  {
   "cell_type": "code",
   "execution_count": 17,
   "metadata": {},
   "outputs": [
    {
     "data": {
      "text/plain": [
       "['1',\n",
       " '1+1',\n",
       " '1+2',\n",
       " '10',\n",
       " '10+',\n",
       " '10+1',\n",
       " '11',\n",
       " '11+1',\n",
       " '12',\n",
       " '12+',\n",
       " '13',\n",
       " '13+',\n",
       " '13+1',\n",
       " '14',\n",
       " '15+',\n",
       " '16',\n",
       " '18',\n",
       " '2',\n",
       " '2+1',\n",
       " '2+2',\n",
       " '20 Above',\n",
       " '3',\n",
       " '3+1',\n",
       " '3+2',\n",
       " '4',\n",
       " '4+1',\n",
       " '4+2',\n",
       " '5',\n",
       " '5+1',\n",
       " '5+2',\n",
       " '6',\n",
       " '6+',\n",
       " '6+1',\n",
       " '7',\n",
       " '7+',\n",
       " '7+1',\n",
       " '8',\n",
       " '8+',\n",
       " '8+1',\n",
       " '9',\n",
       " '9+',\n",
       " '9+1',\n",
       " 'Studio',\n",
       " 'nan']"
      ]
     },
     "execution_count": 17,
     "metadata": {},
     "output_type": "execute_result"
    }
   ],
   "source": [
    "sorted(df['Rooms'].unique().astype(str))"
   ]
  },
  {
   "cell_type": "markdown",
   "metadata": {},
   "source": [
    "We will be using regular expressions in order to match the strings. Studio is assumed to be 1 room."
   ]
  },
  {
   "cell_type": "code",
   "execution_count": 18,
   "metadata": {},
   "outputs": [],
   "source": [
    "def format_rooms(string):\n",
    "    try:\n",
    "        if re.search(\"[0-9]+ above\", string.lower()) is not None:\n",
    "            return int(string.split(' ')[0])\n",
    "\n",
    "        elif re.search(\"[0-9]+\\+[0-9]+\", string) is not None:\n",
    "            num_list = string.split(\"+\")\n",
    "            return int(num_list[0]) + int(num_list[1])\n",
    "\n",
    "        elif re.search(\"\\+$\", string) is not None:\n",
    "            return int(string[:-1])\n",
    "\n",
    "        elif string.lower() == 'studio':\n",
    "            return 1\n",
    "\n",
    "        else:\n",
    "            return int(string)\n",
    "    \n",
    "    except AttributeError:\n",
    "        return string\n",
    "    \n",
    "    \n",
    "df['Rooms'] = df['Rooms'].apply(format_rooms)"
   ]
  },
  {
   "cell_type": "code",
   "execution_count": 19,
   "metadata": {},
   "outputs": [
    {
     "data": {
      "text/plain": [
       "dtype('float64')"
      ]
     },
     "execution_count": 19,
     "metadata": {},
     "output_type": "execute_result"
    }
   ],
   "source": [
    "df['Rooms'].dtype"
   ]
  },
  {
   "cell_type": "markdown",
   "metadata": {},
   "source": [
    "### Property Type"
   ]
  },
  {
   "cell_type": "markdown",
   "metadata": {},
   "source": [
    "The full list of property types are displayed and it is overwhelming at first. We are going to categorise these property types into their respective super-group."
   ]
  },
  {
   "cell_type": "code",
   "execution_count": 20,
   "metadata": {},
   "outputs": [
    {
     "data": {
      "text/plain": [
       "['1-sty Terrace/Link House',\n",
       " '1-sty Terrace/Link House (Corner)',\n",
       " '1-sty Terrace/Link House (EndLot)',\n",
       " '1-sty Terrace/Link House (Intermediate)',\n",
       " '1.5-sty Terrace/Link House',\n",
       " '1.5-sty Terrace/Link House (Corner)',\n",
       " '1.5-sty Terrace/Link House (EndLot)',\n",
       " '1.5-sty Terrace/Link House (Intermediate)',\n",
       " '2-sty Terrace/Link House',\n",
       " '2-sty Terrace/Link House (Corner)',\n",
       " '2-sty Terrace/Link House (Duplex)',\n",
       " '2-sty Terrace/Link House (EndLot)',\n",
       " '2-sty Terrace/Link House (Intermediate)',\n",
       " '2-sty Terrace/Link House (Penthouse)',\n",
       " '2.5-sty Terrace/Link House',\n",
       " '2.5-sty Terrace/Link House (Corner)',\n",
       " '2.5-sty Terrace/Link House (Duplex)',\n",
       " '2.5-sty Terrace/Link House (EndLot)',\n",
       " '2.5-sty Terrace/Link House (Intermediate)',\n",
       " '2.5-sty Terrace/Link House (Penthouse)',\n",
       " '2.5-sty Terrace/Link House (Triplex)',\n",
       " '3-sty Terrace/Link House',\n",
       " '3-sty Terrace/Link House (Corner)',\n",
       " '3-sty Terrace/Link House (Duplex)',\n",
       " '3-sty Terrace/Link House (EndLot)',\n",
       " '3-sty Terrace/Link House (Intermediate)',\n",
       " '3-sty Terrace/Link House (Triplex)',\n",
       " '3.5-sty Terrace/Link House',\n",
       " '3.5-sty Terrace/Link House (Corner)',\n",
       " '3.5-sty Terrace/Link House (EndLot)',\n",
       " '3.5-sty Terrace/Link House (Intermediate)',\n",
       " '4-sty Terrace/Link House',\n",
       " '4-sty Terrace/Link House (Corner)',\n",
       " '4-sty Terrace/Link House (Intermediate)',\n",
       " '4-sty Terrace/Link House (Penthouse)',\n",
       " '4.5-sty Terrace/Link House',\n",
       " '4.5-sty Terrace/Link House (Corner)',\n",
       " '4.5-sty Terrace/Link House (Intermediate)',\n",
       " 'Apartment',\n",
       " 'Apartment (Corner)',\n",
       " 'Apartment (Duplex)',\n",
       " 'Apartment (EndLot)',\n",
       " 'Apartment (Intermediate)',\n",
       " 'Apartment (Penthouse)',\n",
       " 'Apartment (Studio)',\n",
       " 'Apartment (Triplex)',\n",
       " 'Bungalow',\n",
       " 'Bungalow (Corner)',\n",
       " 'Bungalow (Duplex)',\n",
       " 'Bungalow (EndLot)',\n",
       " 'Bungalow (Intermediate)',\n",
       " 'Bungalow (Penthouse)',\n",
       " 'Bungalow Land',\n",
       " 'Bungalow Land (Corner)',\n",
       " 'Bungalow Land (Intermediate)',\n",
       " 'Cluster House',\n",
       " 'Cluster House (Intermediate)',\n",
       " 'Condominium',\n",
       " 'Condominium (Corner)',\n",
       " 'Condominium (Duplex)',\n",
       " 'Condominium (EndLot)',\n",
       " 'Condominium (Intermediate)',\n",
       " 'Condominium (Penthouse)',\n",
       " 'Condominium (SOHO)',\n",
       " 'Condominium (Studio)',\n",
       " 'Condominium (Triplex)',\n",
       " 'Flat',\n",
       " 'Flat (Corner)',\n",
       " 'Flat (EndLot)',\n",
       " 'Flat (Intermediate)',\n",
       " 'Residential Land',\n",
       " 'Residential Land (Corner)',\n",
       " 'Residential Land (EndLot)',\n",
       " 'Residential Land (Intermediate)',\n",
       " 'Semi-detached House',\n",
       " 'Semi-detached House (Corner)',\n",
       " 'Semi-detached House (Duplex)',\n",
       " 'Semi-detached House (EndLot)',\n",
       " 'Semi-detached House (Intermediate)',\n",
       " 'Semi-detached House (SOHO)',\n",
       " 'Semi-detached House (Triplex)',\n",
       " 'Serviced Residence',\n",
       " 'Serviced Residence (Corner)',\n",
       " 'Serviced Residence (Duplex)',\n",
       " 'Serviced Residence (EndLot)',\n",
       " 'Serviced Residence (Intermediate)',\n",
       " 'Serviced Residence (Penthouse)',\n",
       " 'Serviced Residence (SOHO)',\n",
       " 'Serviced Residence (Studio)',\n",
       " 'Serviced Residence (Triplex)',\n",
       " 'Townhouse',\n",
       " 'Townhouse (Corner)',\n",
       " 'Townhouse (Duplex)',\n",
       " 'Townhouse (EndLot)',\n",
       " 'Townhouse (Intermediate)']"
      ]
     },
     "execution_count": 20,
     "metadata": {},
     "output_type": "execute_result"
    }
   ],
   "source": [
    "sorted(df['Property Type'].unique())"
   ]
  },
  {
   "cell_type": "markdown",
   "metadata": {},
   "source": [
    "These are the super-groups identified."
   ]
  },
  {
   "cell_type": "code",
   "execution_count": 21,
   "metadata": {},
   "outputs": [],
   "source": [
    "main_types = [\"Townhouse\",\n",
    "              \"Semi-detached House\",\n",
    "              \"Serviced Residence\",\n",
    "              \"Residential Land\",\n",
    "              \"Flat\",\n",
    "              \"Condominium\",\n",
    "              \"Cluster House\",\n",
    "              \"Bungalow\",\n",
    "              \"Apartment\",\n",
    "              \"Terrace/Link House\"]"
   ]
  },
  {
   "cell_type": "code",
   "execution_count": 22,
   "metadata": {},
   "outputs": [],
   "source": [
    "def format_prop_type(string):\n",
    "    for main in main_types:\n",
    "        if re.search(main, string, flags=re.IGNORECASE) is not None:\n",
    "            return main\n",
    "    return string"
   ]
  },
  {
   "cell_type": "markdown",
   "metadata": {},
   "source": [
    "A new column **Property Type Supergroup** is added to the data frame. Here's how the data frame looks like so far."
   ]
  },
  {
   "cell_type": "code",
   "execution_count": 23,
   "metadata": {},
   "outputs": [],
   "source": [
    "df['Property Type Supergroup'] = df['Property Type'].apply(format_prop_type)"
   ]
  },
  {
   "cell_type": "code",
   "execution_count": 24,
   "metadata": {},
   "outputs": [
    {
     "data": {
      "text/html": [
       "<div>\n",
       "<style scoped>\n",
       "    .dataframe tbody tr th:only-of-type {\n",
       "        vertical-align: middle;\n",
       "    }\n",
       "\n",
       "    .dataframe tbody tr th {\n",
       "        vertical-align: top;\n",
       "    }\n",
       "\n",
       "    .dataframe thead th {\n",
       "        text-align: right;\n",
       "    }\n",
       "</style>\n",
       "<table border=\"1\" class=\"dataframe\">\n",
       "  <thead>\n",
       "    <tr style=\"text-align: right;\">\n",
       "      <th></th>\n",
       "      <th>Location</th>\n",
       "      <th>Price</th>\n",
       "      <th>Rooms</th>\n",
       "      <th>Bathrooms</th>\n",
       "      <th>Car Parks</th>\n",
       "      <th>Property Type</th>\n",
       "      <th>Size</th>\n",
       "      <th>Furnishing</th>\n",
       "      <th>Property Type Supergroup</th>\n",
       "    </tr>\n",
       "  </thead>\n",
       "  <tbody>\n",
       "    <tr>\n",
       "      <th>0</th>\n",
       "      <td>klcc</td>\n",
       "      <td>1250000</td>\n",
       "      <td>3.0</td>\n",
       "      <td>3.0</td>\n",
       "      <td>2.0</td>\n",
       "      <td>Serviced Residence</td>\n",
       "      <td>Built-up : 1,335 sq. ft.</td>\n",
       "      <td>Fully Furnished</td>\n",
       "      <td>Serviced Residence</td>\n",
       "    </tr>\n",
       "    <tr>\n",
       "      <th>1</th>\n",
       "      <td>damansara heights</td>\n",
       "      <td>6800000</td>\n",
       "      <td>6.0</td>\n",
       "      <td>7.0</td>\n",
       "      <td>NaN</td>\n",
       "      <td>Bungalow</td>\n",
       "      <td>Land area : 6900 sq. ft.</td>\n",
       "      <td>Partly Furnished</td>\n",
       "      <td>Bungalow</td>\n",
       "    </tr>\n",
       "    <tr>\n",
       "      <th>2</th>\n",
       "      <td>dutamas</td>\n",
       "      <td>1030000</td>\n",
       "      <td>3.0</td>\n",
       "      <td>4.0</td>\n",
       "      <td>2.0</td>\n",
       "      <td>Condominium (Corner)</td>\n",
       "      <td>Built-up : 1,875 sq. ft.</td>\n",
       "      <td>Partly Furnished</td>\n",
       "      <td>Condominium</td>\n",
       "    </tr>\n",
       "    <tr>\n",
       "      <th>4</th>\n",
       "      <td>bukit jalil</td>\n",
       "      <td>900000</td>\n",
       "      <td>5.0</td>\n",
       "      <td>3.0</td>\n",
       "      <td>2.0</td>\n",
       "      <td>Condominium (Corner)</td>\n",
       "      <td>Built-up : 1,513 sq. ft.</td>\n",
       "      <td>Partly Furnished</td>\n",
       "      <td>Condominium</td>\n",
       "    </tr>\n",
       "    <tr>\n",
       "      <th>5</th>\n",
       "      <td>taman tun dr ismail</td>\n",
       "      <td>5350000</td>\n",
       "      <td>6.0</td>\n",
       "      <td>5.0</td>\n",
       "      <td>4.0</td>\n",
       "      <td>Bungalow</td>\n",
       "      <td>Land area : 7200 sq. ft.</td>\n",
       "      <td>Partly Furnished</td>\n",
       "      <td>Bungalow</td>\n",
       "    </tr>\n",
       "  </tbody>\n",
       "</table>\n",
       "</div>"
      ],
      "text/plain": [
       "              Location    Price  Rooms  Bathrooms  Car Parks  \\\n",
       "0                 klcc  1250000    3.0        3.0        2.0   \n",
       "1    damansara heights  6800000    6.0        7.0        NaN   \n",
       "2              dutamas  1030000    3.0        4.0        2.0   \n",
       "4          bukit jalil   900000    5.0        3.0        2.0   \n",
       "5  taman tun dr ismail  5350000    6.0        5.0        4.0   \n",
       "\n",
       "          Property Type                      Size        Furnishing  \\\n",
       "0    Serviced Residence  Built-up : 1,335 sq. ft.   Fully Furnished   \n",
       "1              Bungalow  Land area : 6900 sq. ft.  Partly Furnished   \n",
       "2  Condominium (Corner)  Built-up : 1,875 sq. ft.  Partly Furnished   \n",
       "4  Condominium (Corner)  Built-up : 1,513 sq. ft.  Partly Furnished   \n",
       "5              Bungalow  Land area : 7200 sq. ft.  Partly Furnished   \n",
       "\n",
       "  Property Type Supergroup  \n",
       "0       Serviced Residence  \n",
       "1                 Bungalow  \n",
       "2              Condominium  \n",
       "4              Condominium  \n",
       "5                 Bungalow  "
      ]
     },
     "execution_count": 24,
     "metadata": {},
     "output_type": "execute_result"
    }
   ],
   "source": [
    "df.head()"
   ]
  },
  {
   "cell_type": "markdown",
   "metadata": {},
   "source": [
    "There are significantly more condominiums and serviced residences in Kuala Lumpur."
   ]
  },
  {
   "cell_type": "code",
   "execution_count": 25,
   "metadata": {},
   "outputs": [
    {
     "data": {
      "text/plain": [
       "Condominium            23149\n",
       "Serviced Residence     13399\n",
       "Terrace/Link House      7567\n",
       "Bungalow                3598\n",
       "Semi-detached House     2102\n",
       "Apartment               1621\n",
       "Residential Land         669\n",
       "Townhouse                508\n",
       "Flat                     330\n",
       "Cluster House              6\n",
       "Name: Property Type Supergroup, dtype: int64"
      ]
     },
     "execution_count": 25,
     "metadata": {},
     "output_type": "execute_result"
    }
   ],
   "source": [
    "df['Property Type Supergroup'].value_counts()"
   ]
  },
  {
   "cell_type": "markdown",
   "metadata": {},
   "source": [
    "### Size"
   ]
  },
  {
   "cell_type": "markdown",
   "metadata": {},
   "source": [
    "The values of Size are in this format: [Built-up/Land area] : [size] sq. ft."
   ]
  },
  {
   "cell_type": "markdown",
   "metadata": {},
   "source": [
    "We are only interested in the [size] information and we need to convert Size column to be numeric."
   ]
  },
  {
   "cell_type": "code",
   "execution_count": 26,
   "metadata": {},
   "outputs": [],
   "source": [
    "def split_size(string, idx):\n",
    "    try:\n",
    "        return string.split(\":\")[idx].strip().strip(\"sq. ft.\")\n",
    "    except AttributeError:\n",
    "        return string\n",
    "\n",
    "    \n",
    "df['Size'] = df['Size'].apply(split_size, idx = 1)"
   ]
  },
  {
   "cell_type": "code",
   "execution_count": 27,
   "metadata": {},
   "outputs": [],
   "source": [
    "def format_size(string):\n",
    "        \n",
    "    try:\n",
    "        \n",
    "        string = string.lower()\n",
    "        string = string.replace(\" \", \"\")\n",
    "        string = string.replace(\"'\", \"\")\n",
    "        string = string.replace(\",\", \"\")\n",
    "        \n",
    "        # match [## + ## x ##]\n",
    "        match = re.search('(\\d+)\\+(\\d+)x(\\d+)', string)\n",
    "        if match:\n",
    "            return int(match.group(1)) + (int(match.group(2)) * int(match.group(3)))\n",
    "        \n",
    "        # match [## x ##] or [## * ##]\n",
    "        match2 = re.search('(\\d+)(x|\\*)(\\d+)', string)\n",
    "        if match2:\n",
    "            return int(match2.group(1)) * int(match2.group(3))\n",
    "\n",
    "        return int(string)\n",
    "    \n",
    "    except:\n",
    "        \n",
    "        # this guarantee that Size column is numeric\n",
    "        return None\n",
    "    \n",
    "\n",
    "df['Size'] = df['Size'].apply(format_size)"
   ]
  },
  {
   "cell_type": "markdown",
   "metadata": {},
   "source": [
    "It is important that we remove records with missing Size values as we will be needing this later for feature engineering."
   ]
  },
  {
   "cell_type": "code",
   "execution_count": 28,
   "metadata": {},
   "outputs": [],
   "source": [
    "df = df[~df['Size'].isna()]"
   ]
  },
  {
   "cell_type": "code",
   "execution_count": 29,
   "metadata": {},
   "outputs": [
    {
     "data": {
      "text/plain": [
       "dtype('float64')"
      ]
     },
     "execution_count": 29,
     "metadata": {},
     "output_type": "execute_result"
    }
   ],
   "source": [
    "df['Size'].dtype"
   ]
  },
  {
   "cell_type": "markdown",
   "metadata": {},
   "source": [
    "Here is how the data frame looks like so far."
   ]
  },
  {
   "cell_type": "code",
   "execution_count": 30,
   "metadata": {},
   "outputs": [
    {
     "data": {
      "text/html": [
       "<div>\n",
       "<style scoped>\n",
       "    .dataframe tbody tr th:only-of-type {\n",
       "        vertical-align: middle;\n",
       "    }\n",
       "\n",
       "    .dataframe tbody tr th {\n",
       "        vertical-align: top;\n",
       "    }\n",
       "\n",
       "    .dataframe thead th {\n",
       "        text-align: right;\n",
       "    }\n",
       "</style>\n",
       "<table border=\"1\" class=\"dataframe\">\n",
       "  <thead>\n",
       "    <tr style=\"text-align: right;\">\n",
       "      <th></th>\n",
       "      <th>Location</th>\n",
       "      <th>Price</th>\n",
       "      <th>Rooms</th>\n",
       "      <th>Bathrooms</th>\n",
       "      <th>Car Parks</th>\n",
       "      <th>Property Type</th>\n",
       "      <th>Size</th>\n",
       "      <th>Furnishing</th>\n",
       "      <th>Property Type Supergroup</th>\n",
       "    </tr>\n",
       "  </thead>\n",
       "  <tbody>\n",
       "    <tr>\n",
       "      <th>0</th>\n",
       "      <td>klcc</td>\n",
       "      <td>1250000</td>\n",
       "      <td>3.0</td>\n",
       "      <td>3.0</td>\n",
       "      <td>2.0</td>\n",
       "      <td>Serviced Residence</td>\n",
       "      <td>1335.0</td>\n",
       "      <td>Fully Furnished</td>\n",
       "      <td>Serviced Residence</td>\n",
       "    </tr>\n",
       "    <tr>\n",
       "      <th>1</th>\n",
       "      <td>damansara heights</td>\n",
       "      <td>6800000</td>\n",
       "      <td>6.0</td>\n",
       "      <td>7.0</td>\n",
       "      <td>NaN</td>\n",
       "      <td>Bungalow</td>\n",
       "      <td>6900.0</td>\n",
       "      <td>Partly Furnished</td>\n",
       "      <td>Bungalow</td>\n",
       "    </tr>\n",
       "    <tr>\n",
       "      <th>2</th>\n",
       "      <td>dutamas</td>\n",
       "      <td>1030000</td>\n",
       "      <td>3.0</td>\n",
       "      <td>4.0</td>\n",
       "      <td>2.0</td>\n",
       "      <td>Condominium (Corner)</td>\n",
       "      <td>1875.0</td>\n",
       "      <td>Partly Furnished</td>\n",
       "      <td>Condominium</td>\n",
       "    </tr>\n",
       "    <tr>\n",
       "      <th>4</th>\n",
       "      <td>bukit jalil</td>\n",
       "      <td>900000</td>\n",
       "      <td>5.0</td>\n",
       "      <td>3.0</td>\n",
       "      <td>2.0</td>\n",
       "      <td>Condominium (Corner)</td>\n",
       "      <td>1513.0</td>\n",
       "      <td>Partly Furnished</td>\n",
       "      <td>Condominium</td>\n",
       "    </tr>\n",
       "    <tr>\n",
       "      <th>5</th>\n",
       "      <td>taman tun dr ismail</td>\n",
       "      <td>5350000</td>\n",
       "      <td>6.0</td>\n",
       "      <td>5.0</td>\n",
       "      <td>4.0</td>\n",
       "      <td>Bungalow</td>\n",
       "      <td>7200.0</td>\n",
       "      <td>Partly Furnished</td>\n",
       "      <td>Bungalow</td>\n",
       "    </tr>\n",
       "  </tbody>\n",
       "</table>\n",
       "</div>"
      ],
      "text/plain": [
       "              Location    Price  Rooms  Bathrooms  Car Parks  \\\n",
       "0                 klcc  1250000    3.0        3.0        2.0   \n",
       "1    damansara heights  6800000    6.0        7.0        NaN   \n",
       "2              dutamas  1030000    3.0        4.0        2.0   \n",
       "4          bukit jalil   900000    5.0        3.0        2.0   \n",
       "5  taman tun dr ismail  5350000    6.0        5.0        4.0   \n",
       "\n",
       "          Property Type    Size        Furnishing Property Type Supergroup  \n",
       "0    Serviced Residence  1335.0   Fully Furnished       Serviced Residence  \n",
       "1              Bungalow  6900.0  Partly Furnished                 Bungalow  \n",
       "2  Condominium (Corner)  1875.0  Partly Furnished              Condominium  \n",
       "4  Condominium (Corner)  1513.0  Partly Furnished              Condominium  \n",
       "5              Bungalow  7200.0  Partly Furnished                 Bungalow  "
      ]
     },
     "execution_count": 30,
     "metadata": {},
     "output_type": "execute_result"
    }
   ],
   "source": [
    "df.head()"
   ]
  },
  {
   "cell_type": "markdown",
   "metadata": {},
   "source": [
    "### Bathrooms and Car Parks"
   ]
  },
  {
   "cell_type": "markdown",
   "metadata": {},
   "source": [
    "Bathrooms and Car Parks columns requires no further cleaning."
   ]
  },
  {
   "cell_type": "code",
   "execution_count": 31,
   "metadata": {},
   "outputs": [
    {
     "data": {
      "text/plain": [
       "2.0     20548\n",
       "3.0      9157\n",
       "4.0      6417\n",
       "5.0      4647\n",
       "1.0      4366\n",
       "6.0      3137\n",
       "7.0      1018\n",
       "8.0       395\n",
       "9.0       139\n",
       "10.0       70\n",
       "12.0       14\n",
       "11.0       11\n",
       "20.0       10\n",
       "15.0        6\n",
       "13.0        5\n",
       "14.0        4\n",
       "16.0        1\n",
       "Name: Bathrooms, dtype: int64"
      ]
     },
     "execution_count": 31,
     "metadata": {},
     "output_type": "execute_result"
    }
   ],
   "source": [
    "df['Bathrooms'].value_counts()"
   ]
  },
  {
   "cell_type": "code",
   "execution_count": 32,
   "metadata": {},
   "outputs": [
    {
     "data": {
      "text/plain": [
       "2.0     14787\n",
       "1.0     13286\n",
       "3.0      3720\n",
       "4.0      1881\n",
       "6.0       617\n",
       "5.0       497\n",
       "8.0        88\n",
       "10.0       76\n",
       "7.0        62\n",
       "12.0        7\n",
       "15.0        7\n",
       "13.0        7\n",
       "28.0        4\n",
       "20.0        4\n",
       "9.0         4\n",
       "30.0        4\n",
       "11.0        4\n",
       "16.0        2\n",
       "17.0        2\n",
       "18.0        1\n",
       "24.0        1\n",
       "Name: Car Parks, dtype: int64"
      ]
     },
     "execution_count": 32,
     "metadata": {},
     "output_type": "execute_result"
    }
   ],
   "source": [
    "df['Car Parks'].value_counts()"
   ]
  },
  {
   "cell_type": "markdown",
   "metadata": {},
   "source": [
    "# Feature Engineering"
   ]
  },
  {
   "cell_type": "markdown",
   "metadata": {},
   "source": [
    "Price per Size is commonly used to standardise pricing of properties. We will be using this as the target data for future predictions later on."
   ]
  },
  {
   "cell_type": "code",
   "execution_count": 33,
   "metadata": {},
   "outputs": [],
   "source": [
    "df['Price per Size'] = df['Price'] / df['Size']"
   ]
  },
  {
   "cell_type": "markdown",
   "metadata": {},
   "source": [
    "---"
   ]
  },
  {
   "cell_type": "markdown",
   "metadata": {},
   "source": [
    "The final data frame after pre-processing and feature engineering."
   ]
  },
  {
   "cell_type": "code",
   "execution_count": 34,
   "metadata": {},
   "outputs": [
    {
     "data": {
      "text/html": [
       "<div>\n",
       "<style scoped>\n",
       "    .dataframe tbody tr th:only-of-type {\n",
       "        vertical-align: middle;\n",
       "    }\n",
       "\n",
       "    .dataframe tbody tr th {\n",
       "        vertical-align: top;\n",
       "    }\n",
       "\n",
       "    .dataframe thead th {\n",
       "        text-align: right;\n",
       "    }\n",
       "</style>\n",
       "<table border=\"1\" class=\"dataframe\">\n",
       "  <thead>\n",
       "    <tr style=\"text-align: right;\">\n",
       "      <th></th>\n",
       "      <th>Location</th>\n",
       "      <th>Price</th>\n",
       "      <th>Rooms</th>\n",
       "      <th>Bathrooms</th>\n",
       "      <th>Car Parks</th>\n",
       "      <th>Property Type</th>\n",
       "      <th>Size</th>\n",
       "      <th>Furnishing</th>\n",
       "      <th>Property Type Supergroup</th>\n",
       "      <th>Price per Size</th>\n",
       "    </tr>\n",
       "  </thead>\n",
       "  <tbody>\n",
       "    <tr>\n",
       "      <th>0</th>\n",
       "      <td>klcc</td>\n",
       "      <td>1250000</td>\n",
       "      <td>3.0</td>\n",
       "      <td>3.0</td>\n",
       "      <td>2.0</td>\n",
       "      <td>Serviced Residence</td>\n",
       "      <td>1335.0</td>\n",
       "      <td>Fully Furnished</td>\n",
       "      <td>Serviced Residence</td>\n",
       "      <td>936.329588</td>\n",
       "    </tr>\n",
       "    <tr>\n",
       "      <th>1</th>\n",
       "      <td>damansara heights</td>\n",
       "      <td>6800000</td>\n",
       "      <td>6.0</td>\n",
       "      <td>7.0</td>\n",
       "      <td>NaN</td>\n",
       "      <td>Bungalow</td>\n",
       "      <td>6900.0</td>\n",
       "      <td>Partly Furnished</td>\n",
       "      <td>Bungalow</td>\n",
       "      <td>985.507246</td>\n",
       "    </tr>\n",
       "    <tr>\n",
       "      <th>2</th>\n",
       "      <td>dutamas</td>\n",
       "      <td>1030000</td>\n",
       "      <td>3.0</td>\n",
       "      <td>4.0</td>\n",
       "      <td>2.0</td>\n",
       "      <td>Condominium (Corner)</td>\n",
       "      <td>1875.0</td>\n",
       "      <td>Partly Furnished</td>\n",
       "      <td>Condominium</td>\n",
       "      <td>549.333333</td>\n",
       "    </tr>\n",
       "    <tr>\n",
       "      <th>4</th>\n",
       "      <td>bukit jalil</td>\n",
       "      <td>900000</td>\n",
       "      <td>5.0</td>\n",
       "      <td>3.0</td>\n",
       "      <td>2.0</td>\n",
       "      <td>Condominium (Corner)</td>\n",
       "      <td>1513.0</td>\n",
       "      <td>Partly Furnished</td>\n",
       "      <td>Condominium</td>\n",
       "      <td>594.844679</td>\n",
       "    </tr>\n",
       "    <tr>\n",
       "      <th>5</th>\n",
       "      <td>taman tun dr ismail</td>\n",
       "      <td>5350000</td>\n",
       "      <td>6.0</td>\n",
       "      <td>5.0</td>\n",
       "      <td>4.0</td>\n",
       "      <td>Bungalow</td>\n",
       "      <td>7200.0</td>\n",
       "      <td>Partly Furnished</td>\n",
       "      <td>Bungalow</td>\n",
       "      <td>743.055556</td>\n",
       "    </tr>\n",
       "    <tr>\n",
       "      <th>7</th>\n",
       "      <td>taman tun dr ismail</td>\n",
       "      <td>2600000</td>\n",
       "      <td>5.0</td>\n",
       "      <td>4.0</td>\n",
       "      <td>4.0</td>\n",
       "      <td>Semi-detached House</td>\n",
       "      <td>3600.0</td>\n",
       "      <td>Partly Furnished</td>\n",
       "      <td>Semi-detached House</td>\n",
       "      <td>722.222222</td>\n",
       "    </tr>\n",
       "    <tr>\n",
       "      <th>8</th>\n",
       "      <td>taman tun dr ismail</td>\n",
       "      <td>1950000</td>\n",
       "      <td>5.0</td>\n",
       "      <td>4.0</td>\n",
       "      <td>3.0</td>\n",
       "      <td>2-sty Terrace/Link House (EndLot)</td>\n",
       "      <td>1875.0</td>\n",
       "      <td>Partly Furnished</td>\n",
       "      <td>Terrace/Link House</td>\n",
       "      <td>1040.000000</td>\n",
       "    </tr>\n",
       "    <tr>\n",
       "      <th>9</th>\n",
       "      <td>sri petaling</td>\n",
       "      <td>385000</td>\n",
       "      <td>3.0</td>\n",
       "      <td>2.0</td>\n",
       "      <td>1.0</td>\n",
       "      <td>Apartment (Intermediate)</td>\n",
       "      <td>904.0</td>\n",
       "      <td>Partly Furnished</td>\n",
       "      <td>Apartment</td>\n",
       "      <td>425.884956</td>\n",
       "    </tr>\n",
       "    <tr>\n",
       "      <th>11</th>\n",
       "      <td>taman tun dr ismail</td>\n",
       "      <td>1680000</td>\n",
       "      <td>4.0</td>\n",
       "      <td>3.0</td>\n",
       "      <td>NaN</td>\n",
       "      <td>2-sty Terrace/Link House (Intermediate)</td>\n",
       "      <td>1760.0</td>\n",
       "      <td>Partly Furnished</td>\n",
       "      <td>Terrace/Link House</td>\n",
       "      <td>954.545455</td>\n",
       "    </tr>\n",
       "    <tr>\n",
       "      <th>12</th>\n",
       "      <td>taman tun dr ismail</td>\n",
       "      <td>1700000</td>\n",
       "      <td>4.0</td>\n",
       "      <td>3.0</td>\n",
       "      <td>NaN</td>\n",
       "      <td>2-sty Terrace/Link House (Intermediate)</td>\n",
       "      <td>1900.0</td>\n",
       "      <td>Partly Furnished</td>\n",
       "      <td>Terrace/Link House</td>\n",
       "      <td>894.736842</td>\n",
       "    </tr>\n",
       "  </tbody>\n",
       "</table>\n",
       "</div>"
      ],
      "text/plain": [
       "               Location    Price  Rooms  Bathrooms  Car Parks  \\\n",
       "0                  klcc  1250000    3.0        3.0        2.0   \n",
       "1     damansara heights  6800000    6.0        7.0        NaN   \n",
       "2               dutamas  1030000    3.0        4.0        2.0   \n",
       "4           bukit jalil   900000    5.0        3.0        2.0   \n",
       "5   taman tun dr ismail  5350000    6.0        5.0        4.0   \n",
       "7   taman tun dr ismail  2600000    5.0        4.0        4.0   \n",
       "8   taman tun dr ismail  1950000    5.0        4.0        3.0   \n",
       "9          sri petaling   385000    3.0        2.0        1.0   \n",
       "11  taman tun dr ismail  1680000    4.0        3.0        NaN   \n",
       "12  taman tun dr ismail  1700000    4.0        3.0        NaN   \n",
       "\n",
       "                              Property Type    Size        Furnishing  \\\n",
       "0                        Serviced Residence  1335.0   Fully Furnished   \n",
       "1                                  Bungalow  6900.0  Partly Furnished   \n",
       "2                      Condominium (Corner)  1875.0  Partly Furnished   \n",
       "4                      Condominium (Corner)  1513.0  Partly Furnished   \n",
       "5                                  Bungalow  7200.0  Partly Furnished   \n",
       "7                       Semi-detached House  3600.0  Partly Furnished   \n",
       "8         2-sty Terrace/Link House (EndLot)  1875.0  Partly Furnished   \n",
       "9                  Apartment (Intermediate)   904.0  Partly Furnished   \n",
       "11  2-sty Terrace/Link House (Intermediate)  1760.0  Partly Furnished   \n",
       "12  2-sty Terrace/Link House (Intermediate)  1900.0  Partly Furnished   \n",
       "\n",
       "   Property Type Supergroup  Price per Size  \n",
       "0        Serviced Residence      936.329588  \n",
       "1                  Bungalow      985.507246  \n",
       "2               Condominium      549.333333  \n",
       "4               Condominium      594.844679  \n",
       "5                  Bungalow      743.055556  \n",
       "7       Semi-detached House      722.222222  \n",
       "8        Terrace/Link House     1040.000000  \n",
       "9                 Apartment      425.884956  \n",
       "11       Terrace/Link House      954.545455  \n",
       "12       Terrace/Link House      894.736842  "
      ]
     },
     "execution_count": 34,
     "metadata": {},
     "output_type": "execute_result"
    }
   ],
   "source": [
    "df.head(10)"
   ]
  },
  {
   "cell_type": "markdown",
   "metadata": {},
   "source": [
    "# Save cleaned data"
   ]
  },
  {
   "cell_type": "code",
   "execution_count": 35,
   "metadata": {},
   "outputs": [],
   "source": [
    "df.to_csv('kl_property_cleaned.csv')"
   ]
  }
 ],
 "metadata": {
  "kernelspec": {
   "display_name": "Python 3",
   "language": "python",
   "name": "python3"
  },
  "language_info": {
   "codemirror_mode": {
    "name": "ipython",
    "version": 3
   },
   "file_extension": ".py",
   "mimetype": "text/x-python",
   "name": "python",
   "nbconvert_exporter": "python",
   "pygments_lexer": "ipython3",
   "version": "3.8.3"
  }
 },
 "nbformat": 4,
 "nbformat_minor": 4
}
